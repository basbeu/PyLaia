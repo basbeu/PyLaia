{
 "cells": [
  {
   "cell_type": "markdown",
   "metadata": {
    "toc": true
   },
   "source": [
    "<h1>Table of Contents<span class=\"tocSkip\"></span></h1>\n",
    "<div class=\"toc\"><ul class=\"toc-item\"></ul></div>"
   ]
  },
  {
   "cell_type": "code",
   "execution_count": 1,
   "metadata": {},
   "outputs": [
    {
     "ename": "ModuleNotFoundError",
     "evalue": "No module named 'torch'",
     "output_type": "error",
     "traceback": [
      "\u001b[0;31m---------------------------------------------------------------------------\u001b[0m",
      "\u001b[0;31mModuleNotFoundError\u001b[0m                       Traceback (most recent call last)",
      "\u001b[0;32m<ipython-input-1-dd0b4bebbdc1>\u001b[0m in \u001b[0;36m<module>\u001b[0;34m()\u001b[0m\n\u001b[0;32m----> 1\u001b[0;31m \u001b[0;32mimport\u001b[0m \u001b[0mtorch\u001b[0m\u001b[0;34m\u001b[0m\u001b[0m\n\u001b[0m\u001b[1;32m      2\u001b[0m \u001b[0;34m\u001b[0m\u001b[0m\n\u001b[1;32m      3\u001b[0m \u001b[0;32mimport\u001b[0m \u001b[0mmatplotlib\u001b[0m\u001b[0;34m.\u001b[0m\u001b[0mpyplot\u001b[0m \u001b[0;32mas\u001b[0m \u001b[0mplt\u001b[0m\u001b[0;34m\u001b[0m\u001b[0m\n\u001b[1;32m      4\u001b[0m \u001b[0;34m\u001b[0m\u001b[0m\n\u001b[1;32m      5\u001b[0m \u001b[0;32mimport\u001b[0m \u001b[0mcv2\u001b[0m\u001b[0;34m\u001b[0m\u001b[0m\n",
      "\u001b[0;31mModuleNotFoundError\u001b[0m: No module named 'torch'"
     ]
    }
   ],
   "source": [
    "import torch\n",
    "\n",
    "import matplotlib.pyplot as plt\n",
    "\n",
    "import cv2\n",
    "import numpy as np\n",
    "\n",
    "import laia.common.logging as log\n",
    "from laia.common.arguments import add_argument, args, add_defaults\n",
    "from laia.common.arguments_types import str2bool\n",
    "from laia.common.loader import ModelLoader, CheckpointLoader\n",
    "from laia.data import ImageDataLoader, ImageFromListDataset\n",
    "from laia.decoders import CTCGreedyDecoder\n",
    "from laia.engine.feeders import ImageFeeder, ItemFeeder\n",
    "from laia.experiments import Experiment\n",
    "from laia.utils import SymbolsTable, ImageToTensor\n",
    "from laia.data import ImageDataLoader, TextImageFromTextTableDataset\n",
    "import laia.data.transforms as transforms\n",
    "import multiprocessing\n",
    "from laia.engine.feeders import ImageFeeder, ItemFeeder\n",
    "import pickle\n",
    "import pandas as pd\n",
    "import os\n",
    "\n",
    "from tqdm.notebook import tqdm\n",
    "\n",
    "import editdistance\n",
    "\n",
    "def compute_cdist(gt, pred):\n",
    "    return editdistance.eval(gt, pred), len(gt)\n",
    "\n",
    "def compute_wdist(gt, pred):\n",
    "    return compute_cdist(chars2words(gt), chars2words(pred))\n",
    "\n",
    "def compute_cer(gt, pred):\n",
    "    return editdistance.eval(gt, pred)/len(gt)\n",
    "\n",
    "def chars2words(chars):\n",
    "    return \"\".join(chars).split('@') if isinstance(chars, list) else \"\"\n",
    "\n",
    "def compute_wer(gt, pred):\n",
    "    return compute_cer(chars2words(gt), chars2words(pred))"
   ]
  },
  {
   "cell_type": "code",
   "execution_count": 59,
   "metadata": {
    "collapsed": true
   },
   "outputs": [],
   "source": [
    "syms = SymbolsTable('/scratch/raphael/phd/htr/PyLaia/egs/vtm/exper/puigcerver17_transfer_bn_dist/train/syms_ctc.txt')\n",
    "device = torch.device('cuda:0')\n",
    "\n",
    "train_path = '/scratch/raphael/phd/htr/PyLaia/egs/vtm/exper/puigcerver17_transfer_bn_dist/train'\n",
    "model_filename = 'model'\n",
    "checkpoint_filename = 'experiment.ckpt.lowest-valid-cer-68'\n",
    "gt_path = '/scratch/raphael/phd/htr/laia/egs/vtm/data/lang/split/te.txt'\n",
    "image_path = '/scratch/raphael/phd/htr/laia/egs/vtm/data/imgs/lines_h128'"
   ]
  },
  {
   "cell_type": "code",
   "execution_count": 58,
   "metadata": {
    "collapsed": true
   },
   "outputs": [],
   "source": [
    "syms = SymbolsTable('/scratch/raphael/phd/htr/laia/egs/lausanne-berney/exper/puigcerver17_transfer_bn_dist/train/syms_ctc.txt')\n",
    "device = torch.device('cpu')\n",
    "\n",
    "train_path = '/scratch/raphael/phd/htr/laia/egs/lausanne-berney/exper/puigcerver17_transfer_bn_dist/train'\n",
    "model_filename = 'model'\n",
    "checkpoint_filename = 'experiment.ckpt.lowest-valid-cer-99'\n",
    "# checkpoint_filename = 'experiment.ckpt.lowest-valid-wer-103'\n",
    "gt_path = '/scratch/raphael/phd/htr/laia/egs/lausanne-berney/data/lang/split/te.txt'\n",
    "image_path = '/scratch/raphael/phd/htr/laia/egs/lausanne-berney/data/imgs/lines_h128'"
   ]
  },
  {
   "cell_type": "code",
   "execution_count": 60,
   "metadata": {},
   "outputs": [
    {
     "data": {
      "text/plain": [
       "LaiaCRNN(\n",
       "  (conv): Sequential(\n",
       "    (0): ConvBlock(\n",
       "      (conv): Conv2d(1, 16, kernel_size=(3, 3), stride=(1, 1), padding=(1, 1), bias=False)\n",
       "      (batchnorm): BatchNorm2d(16, eps=1e-05, momentum=0.1, affine=True, track_running_stats=True)\n",
       "      (activation): LeakyReLU(negative_slope=0.01)\n",
       "      (pool): MaxPool2d(kernel_size=(2, 2), stride=(2, 2), padding=0, dilation=1, ceil_mode=False)\n",
       "    )\n",
       "    (1): ConvBlock(\n",
       "      (conv): Conv2d(16, 32, kernel_size=(3, 3), stride=(1, 1), padding=(1, 1), bias=False)\n",
       "      (batchnorm): BatchNorm2d(32, eps=1e-05, momentum=0.1, affine=True, track_running_stats=True)\n",
       "      (activation): LeakyReLU(negative_slope=0.01)\n",
       "      (pool): MaxPool2d(kernel_size=(2, 2), stride=(2, 2), padding=0, dilation=1, ceil_mode=False)\n",
       "    )\n",
       "    (2): ConvBlock(\n",
       "      (conv): Conv2d(32, 48, kernel_size=(3, 3), stride=(1, 1), padding=(1, 1), bias=False)\n",
       "      (batchnorm): BatchNorm2d(48, eps=1e-05, momentum=0.1, affine=True, track_running_stats=True)\n",
       "      (activation): LeakyReLU(negative_slope=0.01)\n",
       "      (pool): MaxPool2d(kernel_size=(2, 2), stride=(2, 2), padding=0, dilation=1, ceil_mode=False)\n",
       "    )\n",
       "    (3): ConvBlock(\n",
       "      (conv): Conv2d(48, 64, kernel_size=(3, 3), stride=(1, 1), padding=(1, 1), bias=False)\n",
       "      (batchnorm): BatchNorm2d(64, eps=1e-05, momentum=0.1, affine=True, track_running_stats=True)\n",
       "      (activation): LeakyReLU(negative_slope=0.01)\n",
       "    )\n",
       "    (4): ConvBlock(\n",
       "      (conv): Conv2d(64, 80, kernel_size=(3, 3), stride=(1, 1), padding=(1, 1), bias=False)\n",
       "      (batchnorm): BatchNorm2d(80, eps=1e-05, momentum=0.1, affine=True, track_running_stats=True)\n",
       "      (activation): LeakyReLU(negative_slope=0.01)\n",
       "    )\n",
       "  )\n",
       "  (sequencer): ImagePoolingSequencer()\n",
       "  (rnn): LSTM(1280, 256, num_layers=5, dropout=0.5, bidirectional=True)\n",
       "  (linear): Linear(in_features=512, out_features=82, bias=True)\n",
       ")"
      ]
     },
     "execution_count": 60,
     "metadata": {},
     "output_type": "execute_result"
    }
   ],
   "source": [
    "model = ModelLoader(\n",
    "        train_path, filename=model_filename, device=device\n",
    "    ).load()\n",
    "state = CheckpointLoader(device=device).load_by(\n",
    "        os.path.join(train_path, checkpoint_filename)\n",
    "    )\n",
    "if 'tr_engine' in state:\n",
    "    state = Experiment.get_model_state_dict(state)\n",
    "model.load_state_dict(state)\n",
    "model = model.to(device)\n",
    "model.eval()"
   ]
  },
  {
   "cell_type": "code",
   "execution_count": 61,
   "metadata": {
    "collapsed": true
   },
   "outputs": [],
   "source": [
    "dataset = TextImageFromTextTableDataset(\n",
    "    gt_path,\n",
    "    image_path,\n",
    "    img_transform=ImageToTensor(),\n",
    "    txt_transform=transforms.text.ToTensor(syms),\n",
    ")\n",
    "dataset_loader = ImageDataLoader(\n",
    "    dataset=dataset,\n",
    "    image_channels=1,\n",
    "    batch_size=10,\n",
    "    num_workers=8,\n",
    ")\n",
    "batch_input_fn = ImageFeeder(device=device, parent_feeder=ItemFeeder(\"img\"))\n",
    "batch_target_fn = ItemFeeder(\"txt\")\n",
    "batch_id_fn = ItemFeeder(\"id\")\n",
    "decoder = CTCGreedyDecoder()\n"
   ]
  },
  {
   "cell_type": "code",
   "execution_count": 62,
   "metadata": {},
   "outputs": [
    {
     "data": {
      "application/vnd.jupyter.widget-view+json": {
       "model_id": "bf5688e67034444aa37b36d476804504",
       "version_major": 2,
       "version_minor": 0
      },
      "text/plain": [
       "HBox(children=(FloatProgress(value=0.0, max=2211.0), HTML(value='')))"
      ]
     },
     "metadata": {},
     "output_type": "display_data"
    },
    {
     "name": "stdout",
     "output_type": "stream",
     "text": [
      "\n"
     ]
    }
   ],
   "source": [
    "decoded = []\n",
    "target = []\n",
    "ids = []\n",
    "\n",
    "counter = 0\n",
    "\n",
    "# Go through all the samples, compute the prediction, get the label\n",
    "for batch in tqdm(dataset_loader):\n",
    "\n",
    "    batch_input = batch_input_fn(batch)\n",
    "    batch_target = batch_target_fn(batch)\n",
    "    batch_id = batch_id_fn(batch)\n",
    "\n",
    "    batch_input = batch_input_fn(batch)\n",
    "    batch_output = model(batch_input)\n",
    "    batch_decoded = decoder(batch_output)\n",
    "\n",
    "    decoded.extend(batch_decoded)\n",
    "    target.extend(batch_target)\n",
    "    ids.extend(batch_id)"
   ]
  },
  {
   "cell_type": "code",
   "execution_count": 63,
   "metadata": {
    "collapsed": true,
    "scrolled": true
   },
   "outputs": [],
   "source": [
    "decoded = [[syms[char] for char in entry] for entry in decoded]\n",
    "target = [[syms[char] if char else \"?\" for char in entry] for entry in target]\n",
    "result = pd.DataFrame(zip(ids, target, decoded), columns=['id', 'target', 'decoded']).set_index('id')\n",
    "result['cer'] = result.apply(lambda row: compute_cer(row['target'], row['decoded']), axis=1)\n",
    "result['wer'] = result.apply(lambda row: compute_wer(row['target'], row['decoded']), axis=1)\n",
    "result[['cdist', 'clen']] = result.apply(lambda row: compute_cdist(row['target'], row['decoded']), result_type='expand', axis=1)\n",
    "result[['wdist', 'wlen']] = result.apply(lambda row: compute_wdist(row['target'], row['decoded']), result_type='expand', axis=1)\n"
   ]
  },
  {
   "cell_type": "code",
   "execution_count": 64,
   "metadata": {
    "scrolled": true
   },
   "outputs": [
    {
     "data": {
      "text/plain": [
       "(0.044689174982334594, 0.15065724466269426)"
      ]
     },
     "execution_count": 64,
     "metadata": {},
     "output_type": "execute_result"
    }
   ],
   "source": [
    "result['cdist'].sum()/result['clen'].sum(), result['wdist'].sum()/result['wlen'].sum()"
   ]
  },
  {
   "cell_type": "code",
   "execution_count": 65,
   "metadata": {},
   "outputs": [
    {
     "data": {
      "text/html": [
       "<div>\n",
       "<style scoped>\n",
       "    .dataframe tbody tr th:only-of-type {\n",
       "        vertical-align: middle;\n",
       "    }\n",
       "\n",
       "    .dataframe tbody tr th {\n",
       "        vertical-align: top;\n",
       "    }\n",
       "\n",
       "    .dataframe thead th {\n",
       "        text-align: right;\n",
       "    }\n",
       "</style>\n",
       "<table border=\"1\" class=\"dataframe\">\n",
       "  <thead>\n",
       "    <tr style=\"text-align: right;\">\n",
       "      <th></th>\n",
       "      <th>cer</th>\n",
       "      <th>wer</th>\n",
       "    </tr>\n",
       "  </thead>\n",
       "  <tbody>\n",
       "    <tr>\n",
       "      <th>count</th>\n",
       "      <td>22105.000000</td>\n",
       "      <td>22105.000000</td>\n",
       "    </tr>\n",
       "    <tr>\n",
       "      <th>mean</th>\n",
       "      <td>0.045802</td>\n",
       "      <td>0.144804</td>\n",
       "    </tr>\n",
       "    <tr>\n",
       "      <th>std</th>\n",
       "      <td>0.127396</td>\n",
       "      <td>0.297338</td>\n",
       "    </tr>\n",
       "    <tr>\n",
       "      <th>min</th>\n",
       "      <td>0.000000</td>\n",
       "      <td>0.000000</td>\n",
       "    </tr>\n",
       "    <tr>\n",
       "      <th>25%</th>\n",
       "      <td>0.000000</td>\n",
       "      <td>0.000000</td>\n",
       "    </tr>\n",
       "    <tr>\n",
       "      <th>50%</th>\n",
       "      <td>0.000000</td>\n",
       "      <td>0.000000</td>\n",
       "    </tr>\n",
       "    <tr>\n",
       "      <th>75%</th>\n",
       "      <td>0.027778</td>\n",
       "      <td>0.166667</td>\n",
       "    </tr>\n",
       "    <tr>\n",
       "      <th>max</th>\n",
       "      <td>4.000000</td>\n",
       "      <td>5.000000</td>\n",
       "    </tr>\n",
       "  </tbody>\n",
       "</table>\n",
       "</div>"
      ],
      "text/plain": [
       "                cer           wer\n",
       "count  22105.000000  22105.000000\n",
       "mean       0.045802      0.144804\n",
       "std        0.127396      0.297338\n",
       "min        0.000000      0.000000\n",
       "25%        0.000000      0.000000\n",
       "50%        0.000000      0.000000\n",
       "75%        0.027778      0.166667\n",
       "max        4.000000      5.000000"
      ]
     },
     "execution_count": 65,
     "metadata": {},
     "output_type": "execute_result"
    }
   ],
   "source": [
    "result[['cer', 'wer']].describe()"
   ]
  },
  {
   "cell_type": "code",
   "execution_count": 82,
   "metadata": {
    "collapsed": true
   },
   "outputs": [],
   "source": [
    "def res2clean(res):\n",
    "    return \"\".join(res).replace('@', ' ')\n",
    "def show_result(result_row):\n",
    "    img_path = os.path.join(image_path, result_row.name + \".jpg\")\n",
    "    target = res2clean(result_row['target'])\n",
    "    decoded = res2clean(result_row['decoded'])\n",
    "    plt.figure(figsize=(10,10))\n",
    "    plt.imshow(cv2.imread(img_path)[:,:,::-1])\n",
    "    print(f'Target was \"{target}\", prediction is \"{decoded}\"')"
   ]
  },
  {
   "cell_type": "code",
   "execution_count": 126,
   "metadata": {},
   "outputs": [
    {
     "data": {
      "text/plain": [
       "id\n",
       "00137cc7-2006-428f-8140-7db8bb52ea4f    False\n",
       "00145528-b080-4c14-a0d7-284dd975b0b9    False\n",
       "0007040a-e8e3-4d5d-98b6-62cb5ae901cd    False\n",
       "001bafb9-917b-4ee5-bcb1-df0e42916448    False\n",
       "0010fab0-b935-4354-a166-70dc35cc47f6    False\n",
       "                                        ...  \n",
       "fffe90aa-5607-4d69-943a-2f760df5803c     True\n",
       "fffc7c0b-fdf2-447d-be6c-ac7dded74ddf     True\n",
       "fffc44fe-7286-4a2f-b967-3d788fa4fb5b    False\n",
       "fffd73e7-6c73-4efe-a682-41779910330b    False\n",
       "fffbef42-1970-4eea-808c-6cbc47c19bac    False\n",
       "Name: wer, Length: 22105, dtype: bool"
      ]
     },
     "execution_count": 126,
     "metadata": {},
     "output_type": "execute_result"
    }
   ],
   "source": []
  },
  {
   "cell_type": "code",
   "execution_count": 148,
   "metadata": {
    "scrolled": false
   },
   "outputs": [
    {
     "name": "stdout",
     "output_type": "stream",
     "text": [
      "Target was \"bo\", prediction is \"60\"\n"
     ]
    },
    {
     "data": {
      "image/png": "[encoded data removed]",
      "text/plain": [
       "<Figure size 720x720 with 1 Axes>"
      ]
     },
     "metadata": {
      "needs_background": "light"
     },
     "output_type": "display_data"
    }
   ],
   "source": [
    "show_result(result.loc[result['cer'] > 0.6].sample(1).iloc[0])"
   ]
  },
  {
   "cell_type": "code",
   "execution_count": 57,
   "metadata": {},
   "outputs": [
    {
     "name": "stdout",
     "output_type": "stream",
     "text": [
      "Target was \"Caveau\", prediction is \"Cavcan\"\n"
     ]
    },
    {
     "data": {
      "image/png": "[encoded data removed]",
      "text/plain": [
       "<Figure size 432x288 with 1 Axes>"
      ]
     },
     "metadata": {
      "needs_background": "light"
     },
     "output_type": "display_data"
    }
   ],
   "source": [
    "show_result(result.loc['640_folio_001_legende'])"
   ]
  },
  {
   "cell_type": "code",
   "execution_count": 52,
   "metadata": {},
   "outputs": [
    {
     "data": {
      "text/html": [
       "<div>\n",
       "<style scoped>\n",
       "    .dataframe tbody tr th:only-of-type {\n",
       "        vertical-align: middle;\n",
       "    }\n",
       "\n",
       "    .dataframe tbody tr th {\n",
       "        vertical-align: top;\n",
       "    }\n",
       "\n",
       "    .dataframe thead th {\n",
       "        text-align: right;\n",
       "    }\n",
       "</style>\n",
       "<table border=\"1\" class=\"dataframe\">\n",
       "  <thead>\n",
       "    <tr style=\"text-align: right;\">\n",
       "      <th></th>\n",
       "      <th>target</th>\n",
       "      <th>decoded</th>\n",
       "      <th>cer</th>\n",
       "      <th>wer</th>\n",
       "      <th>cdist</th>\n",
       "      <th>clen</th>\n",
       "      <th>wdist</th>\n",
       "      <th>wlen</th>\n",
       "    </tr>\n",
       "    <tr>\n",
       "      <th>id</th>\n",
       "      <th></th>\n",
       "      <th></th>\n",
       "      <th></th>\n",
       "      <th></th>\n",
       "      <th></th>\n",
       "      <th></th>\n",
       "      <th></th>\n",
       "      <th></th>\n",
       "    </tr>\n",
       "  </thead>\n",
       "  <tbody>\n",
       "    <tr>\n",
       "      <th>150_folio_001_legende</th>\n",
       "      <td>[N, °, s]</td>\n",
       "      <td>[N, e, s]</td>\n",
       "      <td>0.333333</td>\n",
       "      <td>1.0</td>\n",
       "      <td>1</td>\n",
       "      <td>3</td>\n",
       "      <td>1</td>\n",
       "      <td>1</td>\n",
       "    </tr>\n",
       "    <tr>\n",
       "      <th>175_folio_001_legende</th>\n",
       "      <td>[2, 0, 6, 0]</td>\n",
       "      <td>[2, 0, 0, 0]</td>\n",
       "      <td>0.250000</td>\n",
       "      <td>1.0</td>\n",
       "      <td>1</td>\n",
       "      <td>4</td>\n",
       "      <td>1</td>\n",
       "      <td>1</td>\n",
       "    </tr>\n",
       "    <tr>\n",
       "      <th>156_folio_001_legende</th>\n",
       "      <td>[0]</td>\n",
       "      <td>[1]</td>\n",
       "      <td>1.000000</td>\n",
       "      <td>1.0</td>\n",
       "      <td>1</td>\n",
       "      <td>1</td>\n",
       "      <td>1</td>\n",
       "      <td>1</td>\n",
       "    </tr>\n",
       "    <tr>\n",
       "      <th>241_folio_001_legende</th>\n",
       "      <td>[F, a, v, e, z]</td>\n",
       "      <td>[J, a, v, e, z]</td>\n",
       "      <td>0.200000</td>\n",
       "      <td>1.0</td>\n",
       "      <td>1</td>\n",
       "      <td>5</td>\n",
       "      <td>1</td>\n",
       "      <td>1</td>\n",
       "    </tr>\n",
       "    <tr>\n",
       "      <th>304_folio_001_legende</th>\n",
       "      <td>[A, l, e, x, a, n, d, r, i, n, e]</td>\n",
       "      <td>[A, t, s, a, n, d, r, i, n, e]</td>\n",
       "      <td>0.272727</td>\n",
       "      <td>1.0</td>\n",
       "      <td>3</td>\n",
       "      <td>11</td>\n",
       "      <td>1</td>\n",
       "      <td>1</td>\n",
       "    </tr>\n",
       "    <tr>\n",
       "      <th>50_folio_001_legende</th>\n",
       "      <td>[T, e, r, r, a, s, s, e]</td>\n",
       "      <td>[F, e, r, r, a, s, s, e]</td>\n",
       "      <td>0.125000</td>\n",
       "      <td>1.0</td>\n",
       "      <td>1</td>\n",
       "      <td>8</td>\n",
       "      <td>1</td>\n",
       "      <td>1</td>\n",
       "    </tr>\n",
       "    <tr>\n",
       "      <th>537_folio_001_legende</th>\n",
       "      <td>[N, °, s]</td>\n",
       "      <td>[N, 2]</td>\n",
       "      <td>0.666667</td>\n",
       "      <td>1.0</td>\n",
       "      <td>2</td>\n",
       "      <td>3</td>\n",
       "      <td>1</td>\n",
       "      <td>1</td>\n",
       "    </tr>\n",
       "    <tr>\n",
       "      <th>640_folio_001_legende</th>\n",
       "      <td>[C, a, v, e, a, u]</td>\n",
       "      <td>[C, a, v, c, a, n]</td>\n",
       "      <td>0.333333</td>\n",
       "      <td>1.0</td>\n",
       "      <td>2</td>\n",
       "      <td>6</td>\n",
       "      <td>1</td>\n",
       "      <td>1</td>\n",
       "    </tr>\n",
       "    <tr>\n",
       "      <th>658_folio_001_legende</th>\n",
       "      <td>[é, t, a, b, l, e]</td>\n",
       "      <td>[é, l, a, b, l, e]</td>\n",
       "      <td>0.166667</td>\n",
       "      <td>1.0</td>\n",
       "      <td>1</td>\n",
       "      <td>6</td>\n",
       "      <td>1</td>\n",
       "      <td>1</td>\n",
       "    </tr>\n",
       "    <tr>\n",
       "      <th>685_folio_001_legende</th>\n",
       "      <td>[B, e, n, e, d, i, c, t]</td>\n",
       "      <td>[B, e, n, e, d, i, e, t]</td>\n",
       "      <td>0.125000</td>\n",
       "      <td>1.0</td>\n",
       "      <td>1</td>\n",
       "      <td>8</td>\n",
       "      <td>1</td>\n",
       "      <td>1</td>\n",
       "    </tr>\n",
       "    <tr>\n",
       "      <th>696_folio_001_legende</th>\n",
       "      <td>[M, i, é, v, i, l, l, e]</td>\n",
       "      <td>[M, i, é, v, i, t, t, e]</td>\n",
       "      <td>0.250000</td>\n",
       "      <td>1.0</td>\n",
       "      <td>2</td>\n",
       "      <td>8</td>\n",
       "      <td>1</td>\n",
       "      <td>1</td>\n",
       "    </tr>\n",
       "    <tr>\n",
       "      <th>719_folio_001_legende</th>\n",
       "      <td>[M, u, y, d, e, n]</td>\n",
       "      <td>[R, u, y, d, e, n]</td>\n",
       "      <td>0.166667</td>\n",
       "      <td>1.0</td>\n",
       "      <td>1</td>\n",
       "      <td>6</td>\n",
       "      <td>1</td>\n",
       "      <td>1</td>\n",
       "    </tr>\n",
       "    <tr>\n",
       "      <th>769_folio_001_legende</th>\n",
       "      <td>[8, 8]</td>\n",
       "      <td>[3, 8]</td>\n",
       "      <td>0.500000</td>\n",
       "      <td>1.0</td>\n",
       "      <td>1</td>\n",
       "      <td>2</td>\n",
       "      <td>1</td>\n",
       "      <td>1</td>\n",
       "    </tr>\n",
       "    <tr>\n",
       "      <th>842_folio_001_legende</th>\n",
       "      <td>[N, °, s, .]</td>\n",
       "      <td>[N, °]</td>\n",
       "      <td>0.500000</td>\n",
       "      <td>1.0</td>\n",
       "      <td>2</td>\n",
       "      <td>4</td>\n",
       "      <td>1</td>\n",
       "      <td>1</td>\n",
       "    </tr>\n",
       "  </tbody>\n",
       "</table>\n",
       "</div>"
      ],
      "text/plain": [
       "                                                  target  \\\n",
       "id                                                         \n",
       "150_folio_001_legende                          [N, °, s]   \n",
       "175_folio_001_legende                       [2, 0, 6, 0]   \n",
       "156_folio_001_legende                                [0]   \n",
       "241_folio_001_legende                    [F, a, v, e, z]   \n",
       "304_folio_001_legende  [A, l, e, x, a, n, d, r, i, n, e]   \n",
       "50_folio_001_legende            [T, e, r, r, a, s, s, e]   \n",
       "537_folio_001_legende                          [N, °, s]   \n",
       "640_folio_001_legende                 [C, a, v, e, a, u]   \n",
       "658_folio_001_legende                 [é, t, a, b, l, e]   \n",
       "685_folio_001_legende           [B, e, n, e, d, i, c, t]   \n",
       "696_folio_001_legende           [M, i, é, v, i, l, l, e]   \n",
       "719_folio_001_legende                 [M, u, y, d, e, n]   \n",
       "769_folio_001_legende                             [8, 8]   \n",
       "842_folio_001_legende                       [N, °, s, .]   \n",
       "\n",
       "                                              decoded       cer  wer  cdist  \\\n",
       "id                                                                            \n",
       "150_folio_001_legende                       [N, e, s]  0.333333  1.0      1   \n",
       "175_folio_001_legende                    [2, 0, 0, 0]  0.250000  1.0      1   \n",
       "156_folio_001_legende                             [1]  1.000000  1.0      1   \n",
       "241_folio_001_legende                 [J, a, v, e, z]  0.200000  1.0      1   \n",
       "304_folio_001_legende  [A, t, s, a, n, d, r, i, n, e]  0.272727  1.0      3   \n",
       "50_folio_001_legende         [F, e, r, r, a, s, s, e]  0.125000  1.0      1   \n",
       "537_folio_001_legende                          [N, 2]  0.666667  1.0      2   \n",
       "640_folio_001_legende              [C, a, v, c, a, n]  0.333333  1.0      2   \n",
       "658_folio_001_legende              [é, l, a, b, l, e]  0.166667  1.0      1   \n",
       "685_folio_001_legende        [B, e, n, e, d, i, e, t]  0.125000  1.0      1   \n",
       "696_folio_001_legende        [M, i, é, v, i, t, t, e]  0.250000  1.0      2   \n",
       "719_folio_001_legende              [R, u, y, d, e, n]  0.166667  1.0      1   \n",
       "769_folio_001_legende                          [3, 8]  0.500000  1.0      1   \n",
       "842_folio_001_legende                          [N, °]  0.500000  1.0      2   \n",
       "\n",
       "                       clen  wdist  wlen  \n",
       "id                                        \n",
       "150_folio_001_legende     3      1     1  \n",
       "175_folio_001_legende     4      1     1  \n",
       "156_folio_001_legende     1      1     1  \n",
       "241_folio_001_legende     5      1     1  \n",
       "304_folio_001_legende    11      1     1  \n",
       "50_folio_001_legende      8      1     1  \n",
       "537_folio_001_legende     3      1     1  \n",
       "640_folio_001_legende     6      1     1  \n",
       "658_folio_001_legende     6      1     1  \n",
       "685_folio_001_legende     8      1     1  \n",
       "696_folio_001_legende     8      1     1  \n",
       "719_folio_001_legende     6      1     1  \n",
       "769_folio_001_legende     2      1     1  \n",
       "842_folio_001_legende     4      1     1  "
      ]
     },
     "execution_count": 52,
     "metadata": {},
     "output_type": "execute_result"
    }
   ],
   "source": [
    "result.loc[result['cer'] > 0]"
   ]
  },
  {
   "cell_type": "code",
   "execution_count": 33,
   "metadata": {},
   "outputs": [
    {
     "data": {
      "text/html": [
       "<div>\n",
       "<style scoped>\n",
       "    .dataframe tbody tr th:only-of-type {\n",
       "        vertical-align: middle;\n",
       "    }\n",
       "\n",
       "    .dataframe tbody tr th {\n",
       "        vertical-align: top;\n",
       "    }\n",
       "\n",
       "    .dataframe thead th {\n",
       "        text-align: right;\n",
       "    }\n",
       "</style>\n",
       "<table border=\"1\" class=\"dataframe\">\n",
       "  <thead>\n",
       "    <tr style=\"text-align: right;\">\n",
       "      <th></th>\n",
       "      <th>id</th>\n",
       "      <th>target</th>\n",
       "      <th>decoded</th>\n",
       "      <th>cer</th>\n",
       "      <th>wer</th>\n",
       "      <th>cdist</th>\n",
       "      <th>clen</th>\n",
       "      <th>wdist</th>\n",
       "      <th>wlen</th>\n",
       "    </tr>\n",
       "  </thead>\n",
       "  <tbody>\n",
       "    <tr>\n",
       "      <th>0</th>\n",
       "      <td>132_folio_001_legende</td>\n",
       "      <td>[S, u, s, a, n, n, e]</td>\n",
       "      <td>[S, u, s, a, n, n, e]</td>\n",
       "      <td>0.0</td>\n",
       "      <td>0.0</td>\n",
       "      <td>0</td>\n",
       "      <td>7</td>\n",
       "      <td>0</td>\n",
       "      <td>1</td>\n",
       "    </tr>\n",
       "    <tr>\n",
       "      <th>1</th>\n",
       "      <td>112_folio_001_legende</td>\n",
       "      <td>[s, o, u, s]</td>\n",
       "      <td>[s, o, u, s]</td>\n",
       "      <td>0.0</td>\n",
       "      <td>0.0</td>\n",
       "      <td>0</td>\n",
       "      <td>4</td>\n",
       "      <td>0</td>\n",
       "      <td>1</td>\n",
       "    </tr>\n",
       "    <tr>\n",
       "      <th>2</th>\n",
       "      <td>111_folio_001_legende</td>\n",
       "      <td>[p, r, e, s, s, o, i, r]</td>\n",
       "      <td>[p, r, e, s, s, o, i, r]</td>\n",
       "      <td>0.0</td>\n",
       "      <td>0.0</td>\n",
       "      <td>0</td>\n",
       "      <td>8</td>\n",
       "      <td>0</td>\n",
       "      <td>1</td>\n",
       "    </tr>\n",
       "    <tr>\n",
       "      <th>3</th>\n",
       "      <td>134_folio_001_legende</td>\n",
       "      <td>[P, i, e, r, r, e]</td>\n",
       "      <td>[P, i, e, r, r, e]</td>\n",
       "      <td>0.0</td>\n",
       "      <td>0.0</td>\n",
       "      <td>0</td>\n",
       "      <td>6</td>\n",
       "      <td>0</td>\n",
       "      <td>1</td>\n",
       "    </tr>\n",
       "    <tr>\n",
       "      <th>4</th>\n",
       "      <td>128_folio_001_legende</td>\n",
       "      <td>[L, e, r, b, e, r]</td>\n",
       "      <td>[L, e, r, b, e, r]</td>\n",
       "      <td>0.0</td>\n",
       "      <td>0.0</td>\n",
       "      <td>0</td>\n",
       "      <td>6</td>\n",
       "      <td>0</td>\n",
       "      <td>1</td>\n",
       "    </tr>\n",
       "    <tr>\n",
       "      <th>...</th>\n",
       "      <td>...</td>\n",
       "      <td>...</td>\n",
       "      <td>...</td>\n",
       "      <td>...</td>\n",
       "      <td>...</td>\n",
       "      <td>...</td>\n",
       "      <td>...</td>\n",
       "      <td>...</td>\n",
       "      <td>...</td>\n",
       "    </tr>\n",
       "    <tr>\n",
       "      <th>163</th>\n",
       "      <td>841_folio_001_legende</td>\n",
       "      <td>[.]</td>\n",
       "      <td>[.]</td>\n",
       "      <td>0.0</td>\n",
       "      <td>0.0</td>\n",
       "      <td>0</td>\n",
       "      <td>1</td>\n",
       "      <td>0</td>\n",
       "      <td>1</td>\n",
       "    </tr>\n",
       "    <tr>\n",
       "      <th>164</th>\n",
       "      <td>835_folio_001_legende</td>\n",
       "      <td>[.]</td>\n",
       "      <td>[.]</td>\n",
       "      <td>0.0</td>\n",
       "      <td>0.0</td>\n",
       "      <td>0</td>\n",
       "      <td>1</td>\n",
       "      <td>0</td>\n",
       "      <td>1</td>\n",
       "    </tr>\n",
       "    <tr>\n",
       "      <th>165</th>\n",
       "      <td>88_folio_001_legende</td>\n",
       "      <td>[B, u, a, n, d, e, r, i, e]</td>\n",
       "      <td>[B, u, a, n, d, e, r, i, e]</td>\n",
       "      <td>0.0</td>\n",
       "      <td>0.0</td>\n",
       "      <td>0</td>\n",
       "      <td>9</td>\n",
       "      <td>0</td>\n",
       "      <td>1</td>\n",
       "    </tr>\n",
       "    <tr>\n",
       "      <th>166</th>\n",
       "      <td>95_folio_001_legende</td>\n",
       "      <td>[u, n, e]</td>\n",
       "      <td>[u, n, e]</td>\n",
       "      <td>0.0</td>\n",
       "      <td>0.0</td>\n",
       "      <td>0</td>\n",
       "      <td>3</td>\n",
       "      <td>0</td>\n",
       "      <td>1</td>\n",
       "    </tr>\n",
       "    <tr>\n",
       "      <th>167</th>\n",
       "      <td>85_folio_001_legende</td>\n",
       "      <td>[P, l, a, c, e]</td>\n",
       "      <td>[P, l, a, c, e]</td>\n",
       "      <td>0.0</td>\n",
       "      <td>0.0</td>\n",
       "      <td>0</td>\n",
       "      <td>5</td>\n",
       "      <td>0</td>\n",
       "      <td>1</td>\n",
       "    </tr>\n",
       "  </tbody>\n",
       "</table>\n",
       "<p>155 rows × 9 columns</p>\n",
       "</div>"
      ],
      "text/plain": [
       "                        id                       target  \\\n",
       "0    132_folio_001_legende        [S, u, s, a, n, n, e]   \n",
       "1    112_folio_001_legende                 [s, o, u, s]   \n",
       "2    111_folio_001_legende     [p, r, e, s, s, o, i, r]   \n",
       "3    134_folio_001_legende           [P, i, e, r, r, e]   \n",
       "4    128_folio_001_legende           [L, e, r, b, e, r]   \n",
       "..                     ...                          ...   \n",
       "163  841_folio_001_legende                          [.]   \n",
       "164  835_folio_001_legende                          [.]   \n",
       "165   88_folio_001_legende  [B, u, a, n, d, e, r, i, e]   \n",
       "166   95_folio_001_legende                    [u, n, e]   \n",
       "167   85_folio_001_legende              [P, l, a, c, e]   \n",
       "\n",
       "                         decoded  cer  wer  cdist  clen  wdist  wlen  \n",
       "0          [S, u, s, a, n, n, e]  0.0  0.0      0     7      0     1  \n",
       "1                   [s, o, u, s]  0.0  0.0      0     4      0     1  \n",
       "2       [p, r, e, s, s, o, i, r]  0.0  0.0      0     8      0     1  \n",
       "3             [P, i, e, r, r, e]  0.0  0.0      0     6      0     1  \n",
       "4             [L, e, r, b, e, r]  0.0  0.0      0     6      0     1  \n",
       "..                           ...  ...  ...    ...   ...    ...   ...  \n",
       "163                          [.]  0.0  0.0      0     1      0     1  \n",
       "164                          [.]  0.0  0.0      0     1      0     1  \n",
       "165  [B, u, a, n, d, e, r, i, e]  0.0  0.0      0     9      0     1  \n",
       "166                    [u, n, e]  0.0  0.0      0     3      0     1  \n",
       "167              [P, l, a, c, e]  0.0  0.0      0     5      0     1  \n",
       "\n",
       "[155 rows x 9 columns]"
      ]
     },
     "execution_count": 33,
     "metadata": {},
     "output_type": "execute_result"
    }
   ],
   "source": [
    "result[result['cer'] ==0]"
   ]
  },
  {
   "cell_type": "code",
   "execution_count": 62,
   "metadata": {
    "collapsed": true
   },
   "outputs": [],
   "source": [
    "idx = 0"
   ]
  },
  {
   "cell_type": "code",
   "execution_count": 77,
   "metadata": {},
   "outputs": [
    {
     "name": "stdout",
     "output_type": "stream",
     "text": [
      "Target was \"Kham\", prediction is \"Pham\"\n"
     ]
    },
    {
     "data": {
      "image/png": "[encoded data removed]",
      "text/plain": [
       "<Figure size 432x288 with 1 Axes>"
      ]
     },
     "metadata": {
      "needs_background": "light"
     },
     "output_type": "display_data"
    }
   ],
   "source": [
    "show_result(result.loc[result['cer'] > 0].iloc[idx])\n",
    "idx += 1"
   ]
  },
  {
   "cell_type": "markdown",
   "metadata": {},
   "source": [
    "- Evalutation par écriture.\n",
    "- Ne pas enlever le background -> pour ne pas fausser la layout.\n",
    "- Enlever les parties imprimées."
   ]
  },
  {
   "cell_type": "code",
   "execution_count": 93,
   "metadata": {
    "collapsed": true
   },
   "outputs": [],
   "source": [
    "with open('/scratch/raphael/phd/htr/laia/egs/lausanne-berney/data/lang/all/char.txt', 'r') as infile:\n",
    "    lines = infile.readlines()"
   ]
  },
  {
   "cell_type": "code",
   "execution_count": 98,
   "metadata": {
    "collapsed": true
   },
   "outputs": [],
   "source": [
    "data = [(x.strip().split()[0], x.strip().split()[1:]) for x in lines]"
   ]
  },
  {
   "cell_type": "code",
   "execution_count": 99,
   "metadata": {
    "collapsed": true
   },
   "outputs": [],
   "source": [
    "from collections import Counter"
   ]
  },
  {
   "cell_type": "code",
   "execution_count": 100,
   "metadata": {
    "collapsed": true
   },
   "outputs": [],
   "source": [
    "char_counter = Counter()"
   ]
  },
  {
   "cell_type": "code",
   "execution_count": 101,
   "metadata": {
    "collapsed": true
   },
   "outputs": [],
   "source": [
    "for _, chars in data:\n",
    "    char_counter.update(chars)"
   ]
  },
  {
   "cell_type": "code",
   "execution_count": 107,
   "metadata": {},
   "outputs": [
    {
     "data": {
      "text/plain": [
       "[('e', 283),\n",
       " ('a', 167),\n",
       " ('i', 141),\n",
       " ('n', 134),\n",
       " ('s', 124),\n",
       " ('r', 122),\n",
       " ('o', 116),\n",
       " ('u', 98),\n",
       " ('l', 75),\n",
       " ('d', 68),\n",
       " ('2', 52),\n",
       " ('f', 51),\n",
       " ('t', 48),\n",
       " ('c', 43),\n",
       " ('M', 39),\n",
       " ('J', 38),\n",
       " ('m', 32),\n",
       " ('9', 31),\n",
       " ('0', 27),\n",
       " ('8', 26),\n",
       " ('h', 25),\n",
       " ('3', 23),\n",
       " ('L', 23),\n",
       " ('7', 23),\n",
       " ('1', 22),\n",
       " ('4', 21),\n",
       " ('P', 21),\n",
       " ('B', 20),\n",
       " ('S', 18),\n",
       " ('p', 17),\n",
       " ('A', 16),\n",
       " ('F', 16),\n",
       " ('5', 16),\n",
       " ('C', 14),\n",
       " ('D', 13),\n",
       " ('6', 13),\n",
       " ('ç', 12),\n",
       " ('g', 10),\n",
       " ('y', 9),\n",
       " ('é', 9),\n",
       " ('v', 8),\n",
       " ('b', 6),\n",
       " ('N', 5),\n",
       " ('R', 5),\n",
       " ('G', 5),\n",
       " ('V', 5),\n",
       " ('z', 4),\n",
       " (\"'\", 4),\n",
       " ('q', 4),\n",
       " ('°', 3),\n",
       " ('E', 3),\n",
       " ('T', 2),\n",
       " ('ê', 2),\n",
       " ('^', 2),\n",
       " ('j', 2),\n",
       " ('à', 2),\n",
       " ('K', 2),\n",
       " ('x', 1),\n",
       " ('H', 1),\n",
       " ('I', 1),\n",
       " ('.', 1)]"
      ]
     },
     "execution_count": 107,
     "metadata": {},
     "output_type": "execute_result"
    }
   ],
   "source": [
    "len()"
   ]
  }
 ],
 "metadata": {
  "kernelspec": {
   "display_name": "Python 3",
   "language": "python",
   "name": "python3"
  },
  "language_info": {
   "codemirror_mode": {
    "name": "ipython",
    "version": 3
   },
   "file_extension": ".py",
   "mimetype": "text/x-python",
   "name": "python",
   "nbconvert_exporter": "python",
   "pygments_lexer": "ipython3",
   "version": "3.6.3"
  },
  "toc": {
   "base_numbering": 1,
   "nav_menu": {},
   "number_sections": true,
   "sideBar": true,
   "skip_h1_title": false,
   "title_cell": "Table of Contents",
   "title_sidebar": "Contents",
   "toc_cell": true,
   "toc_position": {},
   "toc_section_display": true,
   "toc_window_display": false
  }
 },
 "nbformat": 4,
 "nbformat_minor": 4
}
