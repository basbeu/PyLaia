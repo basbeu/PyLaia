{
 "cells": [
  {
   "cell_type": "code",
   "execution_count": 1,
   "metadata": {},
   "outputs": [],
   "source": [
    "import torch\n",
    "import os\n",
    "import cv2\n",
    "import matplotlib.pyplot as plt\n",
    "import pandas as pd\n",
    "\n",
    "import laia.data.transforms as transforms\n",
    "\n",
    "from laia.common.loader import ModelLoader, CheckpointLoader\n",
    "from laia.data import ImageDataLoader, TextImageFromTextTableDataset\n",
    "from laia.utils import SymbolsTable, ImageToTensor\n",
    "from laia.experiments import Experiment\n",
    "from laia.engine.feeders import ImageFeeder, ItemFeeder\n",
    "from laia.decoders import CTCGreedyDecoder"
   ]
  },
  {
   "cell_type": "code",
   "execution_count": 2,
   "metadata": {
    "collapsed": true
   },
   "outputs": [],
   "source": [
    "!export CUDA_VISIBLE_DEVICES=4"
   ]
  },
  {
   "cell_type": "code",
   "execution_count": 3,
   "metadata": {},
   "outputs": [],
   "source": [
    "syms = SymbolsTable('../exper/puigcerver17_transfer_bn_dist/train/syms_ctc.txt')\n",
    "device = torch.device('cuda:0')\n",
    "\n",
    "train_path = '../exper/puigcerver17_transfer_bn_dist/train/'\n",
    "model_filename = 'model'\n",
    "checkpoint_filename = 'experiment.ckpt.lowest-valid-cer-31'\n",
    "gt_path = '../data/sommarioni/fake_text.txt'\n",
    "image_path = '../data/sommarioni/reg1_prepared_h128'"
   ]
  },
  {
   "cell_type": "code",
   "execution_count": 4,
   "metadata": {},
   "outputs": [],
   "source": [
    "from os import listdir\n",
    "from os.path import isfile, join\n",
    "imgs_path='../data/sommarioni/reg1_prepared_h128'\n",
    "imgs = [f for f in listdir(imgs_path) if isfile(join(imgs_path, f))]\n",
    "output = ''\n",
    "for file in imgs:\n",
    "    file_id = file.split('.')[0]\n",
    "    output += file_id + ' fake\\n'\n",
    "\n",
    "f = open(gt_path, \"wt\")\n",
    "f.write(output)\n",
    "f.close()"
   ]
  },
  {
   "cell_type": "code",
   "execution_count": 5,
   "metadata": {},
   "outputs": [
    {
     "data": {
      "text/plain": [
       "LaiaCRNN(\n",
       "  (conv): Sequential(\n",
       "    (0): ConvBlock(\n",
       "      (conv): Conv2d(1, 16, kernel_size=(3, 3), stride=(1, 1), padding=(1, 1), bias=False)\n",
       "      (batchnorm): BatchNorm2d(16, eps=1e-05, momentum=0.1, affine=True, track_running_stats=True)\n",
       "      (activation): LeakyReLU(negative_slope=0.01)\n",
       "      (pool): MaxPool2d(kernel_size=(2, 2), stride=(2, 2), padding=0, dilation=1, ceil_mode=False)\n",
       "    )\n",
       "    (1): ConvBlock(\n",
       "      (conv): Conv2d(16, 32, kernel_size=(3, 3), stride=(1, 1), padding=(1, 1), bias=False)\n",
       "      (batchnorm): BatchNorm2d(32, eps=1e-05, momentum=0.1, affine=True, track_running_stats=True)\n",
       "      (activation): LeakyReLU(negative_slope=0.01)\n",
       "      (pool): MaxPool2d(kernel_size=(2, 2), stride=(2, 2), padding=0, dilation=1, ceil_mode=False)\n",
       "    )\n",
       "    (2): ConvBlock(\n",
       "      (conv): Conv2d(32, 48, kernel_size=(3, 3), stride=(1, 1), padding=(1, 1), bias=False)\n",
       "      (batchnorm): BatchNorm2d(48, eps=1e-05, momentum=0.1, affine=True, track_running_stats=True)\n",
       "      (activation): LeakyReLU(negative_slope=0.01)\n",
       "      (pool): MaxPool2d(kernel_size=(2, 2), stride=(2, 2), padding=0, dilation=1, ceil_mode=False)\n",
       "    )\n",
       "    (3): ConvBlock(\n",
       "      (conv): Conv2d(48, 64, kernel_size=(3, 3), stride=(1, 1), padding=(1, 1), bias=False)\n",
       "      (batchnorm): BatchNorm2d(64, eps=1e-05, momentum=0.1, affine=True, track_running_stats=True)\n",
       "      (activation): LeakyReLU(negative_slope=0.01)\n",
       "    )\n",
       "    (4): ConvBlock(\n",
       "      (conv): Conv2d(64, 80, kernel_size=(3, 3), stride=(1, 1), padding=(1, 1), bias=False)\n",
       "      (batchnorm): BatchNorm2d(80, eps=1e-05, momentum=0.1, affine=True, track_running_stats=True)\n",
       "      (activation): LeakyReLU(negative_slope=0.01)\n",
       "    )\n",
       "  )\n",
       "  (sequencer): ImagePoolingSequencer()\n",
       "  (rnn): LSTM(1280, 256, num_layers=5, dropout=0.5, bidirectional=True)\n",
       "  (linear): Linear(in_features=512, out_features=83, bias=True)\n",
       ")"
      ]
     },
     "execution_count": 5,
     "metadata": {},
     "output_type": "execute_result"
    }
   ],
   "source": [
    "model = ModelLoader(\n",
    "        train_path, filename=model_filename, device=device\n",
    "    ).load()\n",
    "state = CheckpointLoader(device=device).load_by(\n",
    "        os.path.join(train_path, checkpoint_filename)\n",
    "    )\n",
    "if 'tr_engine' in state:\n",
    "    state = Experiment.get_model_state_dict(state)\n",
    "model.load_state_dict(state)\n",
    "model = model.to(device)\n",
    "model.eval()"
   ]
  },
  {
   "cell_type": "code",
   "execution_count": 6,
   "metadata": {},
   "outputs": [],
   "source": [
    "dataset = TextImageFromTextTableDataset(\n",
    "    gt_path,\n",
    "    image_path,\n",
    "    img_transform=ImageToTensor(),\n",
    "    txt_transform=transforms.text.ToTensor(syms),\n",
    ")\n",
    "dataset_loader = ImageDataLoader(\n",
    "    dataset=dataset,\n",
    "    image_channels=1,\n",
    "    batch_size=10,\n",
    "    num_workers=8,\n",
    ")\n",
    "batch_input_fn = ImageFeeder(device=device, parent_feeder=ItemFeeder(\"img\"))\n",
    "batch_target_fn = ItemFeeder(\"txt\")\n",
    "batch_id_fn = ItemFeeder(\"id\")\n",
    "decoder = CTCGreedyDecoder()"
   ]
  },
  {
   "cell_type": "code",
   "execution_count": 7,
   "metadata": {},
   "outputs": [],
   "source": [
    "decoded = []\n",
    "ids = []\n",
    "\n",
    "counter = 0\n",
    "\n",
    "# Go through all the samples, compute the prediction, get the label\n",
    "for batch in dataset_loader:\n",
    "    batch_input = batch_input_fn(batch)\n",
    "    \n",
    "    batch_id = batch_id_fn(batch)\n",
    "    batch_input = batch_input_fn(batch) \n",
    "    batch_output = model(batch_input)\n",
    "    batch_decoded = decoder(batch_output)\n",
    "\n",
    "    decoded.extend(batch_decoded)\n",
    "    ids.extend(batch_id)\n",
    "decoded = [[syms[char] for char in entry] for entry in decoded]\n",
    "result = pd.DataFrame(zip(ids, decoded), columns=['id', 'decoded']).set_index('id')"
   ]
  },
  {
   "cell_type": "code",
   "execution_count": 8,
   "metadata": {},
   "outputs": [],
   "source": [
    "def res2clean(res):\n",
    "    return \"\".join(res).replace('@', ' ')\n",
    "def show_result(result_row):\n",
    "    img_path = os.path.join(image_path, result_row.name + \".jpg\")\n",
    "    decoded = res2clean(result_row['decoded'])\n",
    "    plt.figure(figsize=(10,10))\n",
    "    plt.imshow(cv2.imread(img_path)[:,:,::-1])\n",
    "    print(f'Prediction is \"{decoded}\"')"
   ]
  },
  {
   "cell_type": "code",
   "execution_count": 9,
   "metadata": {},
   "outputs": [],
   "source": [
    "idx = 0"
   ]
  },
  {
   "cell_type": "code",
   "execution_count": 10,
   "metadata": {},
   "outputs": [
    {
     "name": "stdout",
     "output_type": "stream",
     "text": [
      "Prediction is \"20\"\n"
     ]
    },
    {
     "data": {
      "image/png": "[encoded data removed]",
      "text/plain": [
       "<Figure size 720x720 with 1 Axes>"
      ]
     },
     "metadata": {
      "needs_background": "light"
     },
     "output_type": "display_data"
    }
   ],
   "source": [
    "show_result(result.iloc[idx])\n",
    "idx += 1"
   ]
  }
 ],
 "metadata": {
  "kernelspec": {
   "display_name": "pylaia",
   "language": "python",
   "name": "pylaia"
  },
  "language_info": {
   "codemirror_mode": {
    "name": "ipython",
    "version": 3
   },
   "file_extension": ".py",
   "mimetype": "text/x-python",
   "name": "python",
   "nbconvert_exporter": "python",
   "pygments_lexer": "ipython3",
   "version": "3.8.5"
  }
 },
 "nbformat": 4,
 "nbformat_minor": 2
}
